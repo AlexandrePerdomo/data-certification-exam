{
 "cells": [
  {
   "cell_type": "markdown",
   "id": "0f2f6e8e",
   "metadata": {
    "slideshow": {
     "slide_type": "slide"
    }
   },
   "source": [
    "<h1><center>Les crimes à Boston</center></h1>\n",
    "<div style=\"display:flex; align-items:center;\">\n",
    "    <ul>\n",
    "        <li style=\"margin-top:60px\">Analyser les données de la ville sur les crimes</li>\n",
    "        <li style=\"margin-top:60px\">Objectif : trouver des corrélations entre les crimes</li>\n",
    "        <li style=\"margin-top:60px\">Intéret : permettre une meilleure intervention de la police</li>\n",
    "    </ul>\n",
    "    <img src=\"https://previews.123rf.com/images/juan35mm/juan35mm1407/juan35mm140700067/29692611-boston-massachusetts-aerial-view.jpg\"/ style=\"width:300px;height:300px;\">\n",
    "</div>"
   ]
  },
  {
   "cell_type": "markdown",
   "id": "29b5c567",
   "metadata": {
    "slideshow": {
     "slide_type": "subslide"
    }
   },
   "source": []
  },
  {
   "cell_type": "markdown",
   "id": "b7a3578a",
   "metadata": {
    "slideshow": {
     "slide_type": "subslide"
    }
   },
   "source": []
  },
  {
   "cell_type": "markdown",
   "id": "05d82eb7",
   "metadata": {
    "slideshow": {
     "slide_type": "subslide"
    }
   },
   "source": []
  },
  {
   "cell_type": "markdown",
   "id": "f4476d85",
   "metadata": {
    "slideshow": {
     "slide_type": "subslide"
    }
   },
   "source": []
  }
 ],
 "metadata": {
  "celltoolbar": "Diaporama",
  "kernelspec": {
   "display_name": "Python 3",
   "language": "python",
   "name": "python3"
  },
  "language_info": {
   "codemirror_mode": {
    "name": "ipython",
    "version": 3
   },
   "file_extension": ".py",
   "mimetype": "text/x-python",
   "name": "python",
   "nbconvert_exporter": "python",
   "pygments_lexer": "ipython3",
   "version": "3.8.6"
  },
  "toc": {
   "base_numbering": 1,
   "nav_menu": {},
   "number_sections": false,
   "sideBar": true,
   "skip_h1_title": false,
   "title_cell": "Table of Contents",
   "title_sidebar": "Contents",
   "toc_cell": false,
   "toc_position": {},
   "toc_section_display": true,
   "toc_window_display": true
  }
 },
 "nbformat": 4,
 "nbformat_minor": 5
}
