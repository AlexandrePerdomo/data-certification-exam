{
 "cells": [
  {
   "cell_type": "markdown",
   "id": "124ad55e",
   "metadata": {
    "slideshow": {
     "slide_type": "slide"
    }
   },
   "source": [
    "<h1><center>Les crimes à Boston</center></h1>\n",
    "<div style=\"display:flex; align-items:center;\">\n",
    "    <ul>\n",
    "        <li style=\"margin-top:60px\">Analyser les données de la ville sur les crimes</li>\n",
    "        <li style=\"margin-top:60px\">Objectif : trouver des corrélations entre les crimes</li>\n",
    "        <li style=\"margin-top:60px\">Intéret : permettre une meilleure intervention de la police</li>\n",
    "    </ul>\n",
    "    <img src=\"https://previews.123rf.com/images/juan35mm/juan35mm1407/juan35mm140700067/29692611-boston-massachusetts-aerial-view.jpg\"/ style=\"width:300px;height:300px;\">\n",
    "</div>"
   ]
  },
  {
   "cell_type": "markdown",
   "id": "f43b6c1d",
   "metadata": {
    "slideshow": {
     "slide_type": "subslide"
    }
   },
   "source": [
    "<h1><center>Les crimes à Boston</center></h1>\n",
    "<div style=\"display:flex; align-items:center;\">\n",
    "    <ul>\n",
    "        <li style=\"margin-top:60px\">Analyser les données de la ville sur les crimes</li>\n",
    "        <li style=\"margin-top:60px\">Objectif : trouver des corrélations entre les crimes</li>\n",
    "        <li style=\"margin-top:60px\">Intéret : permettre une meilleure intervention de la police</li>\n",
    "    </ul>\n",
    "    <img src=\"https://previews.123rf.com/images/juan35mm/juan35mm1407/juan35mm140700067/29692611-boston-massachusetts-aerial-view.jpg\"/ style=\"width:300px;height:300px;\">\n",
    "</div>"
   ]
  },
  {
   "cell_type": "markdown",
   "id": "4ecb610e",
   "metadata": {
    "slideshow": {
     "slide_type": "subslide"
    }
   },
   "source": [
    "<h1><center>Les crimes à Boston</center></h1>\n",
    "<div style=\"display:flex; align-items:center;\">\n",
    "    <ul>\n",
    "        <li style=\"margin-top:60px\">Analyser les données de la ville sur les crimes</li>\n",
    "        <li style=\"margin-top:60px\">Objectif : trouver des corrélations entre les crimes</li>\n",
    "        <li style=\"margin-top:60px\">Intéret : permettre une meilleure intervention de la police</li>\n",
    "    </ul>\n",
    "    <img src=\"https://previews.123rf.com/images/juan35mm/juan35mm1407/juan35mm140700067/29692611-boston-massachusetts-aerial-view.jpg\"/ style=\"width:300px;height:300px;\">\n",
    "</div>"
   ]
  },
  {
   "cell_type": "markdown",
   "id": "921be18b",
   "metadata": {
    "slideshow": {
     "slide_type": "subslide"
    }
   },
   "source": [
    "<h1><center>Les crimes à Boston</center></h1>\n",
    "<div style=\"display:flex; align-items:center;\">\n",
    "    <ul>\n",
    "        <li style=\"margin-top:60px\">Analyser les données de la ville sur les crimes</li>\n",
    "        <li style=\"margin-top:60px\">Objectif : trouver des corrélations entre les crimes</li>\n",
    "        <li style=\"margin-top:60px\">Intéret : permettre une meilleure intervention de la police</li>\n",
    "    </ul>\n",
    "    <img src=\"https://previews.123rf.com/images/juan35mm/juan35mm1407/juan35mm140700067/29692611-boston-massachusetts-aerial-view.jpg\"/ style=\"width:300px;height:300px;\">\n",
    "</div>"
   ]
  },
  {
   "cell_type": "markdown",
   "id": "739e07f4",
   "metadata": {
    "slideshow": {
     "slide_type": "subslide"
    }
   },
   "source": [
    "<h1><center>Conclusion</center></h1>\n",
    "<div style=\"display:flex; align-items:center;\">\n",
    "    <ul>\n",
    "        <li style=\"margin-top:60px\">Analyser les données de la ville sur les crimes</li>\n",
    "        <li style=\"margin-top:60px\">Objectif : trouver des corrélations entre les crimes</li>\n",
    "        <li style=\"margin-top:60px\">Intéret : permettre une meilleure intervention de la police</li>\n",
    "    </ul>\n",
    "    <img src=\"https://previews.123rf.com/images/juan35mm/juan35mm1407/juan35mm140700067/29692611-boston-massachusetts-aerial-view.jpg\"/ style=\"width:300px;height:300px;\">\n",
    "</div>"
   ]
  }
 ],
 "metadata": {
  "celltoolbar": "Diaporama",
  "kernelspec": {
   "display_name": "Python 3",
   "language": "python",
   "name": "python3"
  },
  "language_info": {
   "codemirror_mode": {
    "name": "ipython",
    "version": 3
   },
   "file_extension": ".py",
   "mimetype": "text/x-python",
   "name": "python",
   "nbconvert_exporter": "python",
   "pygments_lexer": "ipython3",
   "version": "3.8.6"
  },
  "toc": {
   "base_numbering": 1,
   "nav_menu": {},
   "number_sections": false,
   "sideBar": true,
   "skip_h1_title": false,
   "title_cell": "Table of Contents",
   "title_sidebar": "Contents",
   "toc_cell": false,
   "toc_position": {},
   "toc_section_display": true,
   "toc_window_display": true
  }
 },
 "nbformat": 4,
 "nbformat_minor": 5
}
